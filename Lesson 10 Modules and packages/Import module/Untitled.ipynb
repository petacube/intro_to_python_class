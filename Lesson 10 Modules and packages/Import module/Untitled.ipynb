{
 "cells": [
  {
   "cell_type": "code",
   "execution_count": 1,
   "id": "867abad8",
   "metadata": {},
   "outputs": [
    {
     "name": "stdout",
     "output_type": "stream",
     "text": [
      "Hello, World! My name is John\n",
      "4950\n"
     ]
    }
   ],
   "source": [
    "import my_module\n",
    "import calculator\n",
    "\n",
    "my_module.hello_world(\"John\")\n",
    "\n",
    "\n",
    "calc = calculator.Calculator()\n",
    "for i in range(100):\n",
    "    calc.add(i)\n",
    "\n",
    "print(calc.get_current())\n"
   ]
  },
  {
   "cell_type": "code",
   "execution_count": 2,
   "id": "7d828cd7",
   "metadata": {},
   "outputs": [
    {
     "name": "stdout",
     "output_type": "stream",
     "text": [
      "['C:\\\\Users\\\\stani\\\\work\\\\intro_python2\\\\intro_to_python_class\\\\Lesson 10 Modules and packages\\\\Import module', 'C:\\\\Users\\\\stani\\\\miniconda3\\\\python310.zip', 'C:\\\\Users\\\\stani\\\\miniconda3\\\\DLLs', 'C:\\\\Users\\\\stani\\\\miniconda3\\\\lib', 'C:\\\\Users\\\\stani\\\\miniconda3', '', 'C:\\\\Users\\\\stani\\\\miniconda3\\\\lib\\\\site-packages', 'C:\\\\Users\\\\stani\\\\miniconda3\\\\lib\\\\site-packages\\\\sconf-0.2.5-py3.10.egg', 'C:\\\\Users\\\\stani\\\\miniconda3\\\\lib\\\\site-packages\\\\zss-1.2.0-py3.10.egg', 'C:\\\\Users\\\\stani\\\\miniconda3\\\\lib\\\\site-packages\\\\sentencepiece-0.1.99-py3.10-win-amd64.egg', 'C:\\\\Users\\\\stani\\\\miniconda3\\\\lib\\\\site-packages\\\\datasets-2.13.1-py3.10.egg', 'C:\\\\Users\\\\stani\\\\miniconda3\\\\lib\\\\site-packages\\\\timm-0.9.2-py3.10.egg', 'C:\\\\Users\\\\stani\\\\miniconda3\\\\lib\\\\site-packages\\\\munch-4.0.0-py3.10.egg', 'C:\\\\Users\\\\stani\\\\miniconda3\\\\lib\\\\site-packages\\\\joblib-1.3.1-py3.10.egg', 'C:\\\\Users\\\\stani\\\\miniconda3\\\\lib\\\\site-packages\\\\click-8.1.4-py3.10.egg', 'C:\\\\Users\\\\stani\\\\miniconda3\\\\lib\\\\site-packages\\\\lightning_utilities-0.9.0-py3.10.egg', 'C:\\\\Users\\\\stani\\\\miniconda3\\\\lib\\\\site-packages\\\\multiprocess-0.70.14-py3.10.egg', 'C:\\\\Users\\\\stani\\\\miniconda3\\\\lib\\\\site-packages\\\\xxhash-3.2.0-py3.10-win-amd64.egg', 'C:\\\\Users\\\\stani\\\\miniconda3\\\\lib\\\\site-packages\\\\dill-0.3.6-py3.10.egg', 'C:\\\\Users\\\\stani\\\\miniconda3\\\\lib\\\\site-packages\\\\pyarrow-12.0.1-py3.10-win-amd64.egg', 'C:\\\\Users\\\\stani\\\\miniconda3\\\\lib\\\\site-packages\\\\certifi-2023.5.7-py3.10.egg', 'C:\\\\Users\\\\stani\\\\miniconda3\\\\lib\\\\site-packages\\\\win32', 'C:\\\\Users\\\\stani\\\\miniconda3\\\\lib\\\\site-packages\\\\win32\\\\lib', 'C:\\\\Users\\\\stani\\\\miniconda3\\\\lib\\\\site-packages\\\\Pythonwin']\n"
     ]
    }
   ],
   "source": [
    "import sys\n",
    "print(sys.path)"
   ]
  },
  {
   "cell_type": "code",
   "execution_count": null,
   "id": "6c97c35e",
   "metadata": {},
   "outputs": [],
   "source": []
  }
 ],
 "metadata": {
  "kernelspec": {
   "display_name": "Python 3 (ipykernel)",
   "language": "python",
   "name": "python3"
  },
  "language_info": {
   "codemirror_mode": {
    "name": "ipython",
    "version": 3
   },
   "file_extension": ".py",
   "mimetype": "text/x-python",
   "name": "python",
   "nbconvert_exporter": "python",
   "pygments_lexer": "ipython3",
   "version": "3.10.12"
  }
 },
 "nbformat": 4,
 "nbformat_minor": 5
}
